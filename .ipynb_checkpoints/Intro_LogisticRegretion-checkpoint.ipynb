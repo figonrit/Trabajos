{
 "cells": [
  {
   "cell_type": "code",
   "execution_count": 1,
   "metadata": {},
   "outputs": [],
   "source": [
    "%matplotlib inline\n",
    "\n",
    "import numpy as np\n",
    "import matplotlib.pyplot as plt\n",
    "import torch\n",
    "from tqdm.notebook import tqdm\n",
    "\n",
    "#PRUEBA GITHUB"
   ]
  },
  {
   "cell_type": "code",
   "execution_count": 2,
   "metadata": {},
   "outputs": [],
   "source": [
    "#Se aplicará a la verificacion de digitos\n",
    "#Primero, se importarán los datos (entrenamiento y testeo) desde el paquete torchvision\n",
    "\n",
    "from torchvision import datasets, transforms\n",
    "\n",
    "mnist_train = datasets.MNIST(root=\"./datasets\", train=True, transform=transforms.ToTensor(), download=True)\n",
    "mnist_test = datasets.MNIST(root=\"./datasets\", train=False, transform=transforms.ToTensor(), download=True)\n",
    "\n",
    "\n",
    "#de los 70000 muestras de imagenes en blanco y negro de numeros escritos a mano, 60000 son para entrenamiento\n",
    "# y el resto para testeo\n",
    "# ToTensor es para que los datos sean del tipo de entrada \"tensor\", que serviran para alimentar el modelo"
   ]
  },
  {
   "cell_type": "code",
   "execution_count": 3,
   "metadata": {},
   "outputs": [
    {
     "name": "stdout",
     "output_type": "stream",
     "text": [
      "Number of MNIST training examples: 60000\n",
      "Number of MNIST test examples: 10000\n"
     ]
    }
   ],
   "source": [
    "print(\"Number of MNIST training examples: {}\".format(len(mnist_train)))\n",
    "print(\"Number of MNIST test examples: {}\".format(len(mnist_test)))"
   ]
  },
  {
   "cell_type": "code",
   "execution_count": 4,
   "metadata": {},
   "outputs": [
    {
     "name": "stdout",
     "output_type": "stream",
     "text": [
      "Default image shape: torch.Size([1, 28, 28])\n",
      "Reshaped image shape: torch.Size([28, 28])\n",
      "The label of this image: 1\n"
     ]
    },
    {
     "data": {
      "image/png": "[encoded data removed]",
      "text/plain": [
       "<Figure size 432x288 with 1 Axes>"
      ]
     },
     "metadata": {
      "needs_background": "light"
     },
     "output_type": "display_data"
    }
   ],
   "source": [
    "image, label = mnist_train[3]\n",
    "\n",
    "#Plotear imagen\n",
    "print(\"Default image shape: {}\".format(image.shape))\n",
    "image = image.reshape([28,28])\n",
    "\n",
    "#La imagen Tensor por defecto es tridimensional (en este caso (1,28,28)), por lo que debemos deshacernos del \"1\"\n",
    "#correspondiente a la primera dimension\n",
    "print(\"Reshaped image shape: {}\".format(image.shape))\n",
    "plt.imshow(image, cmap =\"gray\")\n",
    "\n",
    "#Imprimir la etiqueta\n",
    "print(\"The label of this image: {}\".format(label))"
   ]
  },
  {
   "cell_type": "code",
   "execution_count": 5,
   "metadata": {},
   "outputs": [],
   "source": [
    "#Los datos se trabajarán con DataLoader, permitiendo agruparlos (en 100) y barajarlos\n",
    "\n",
    "train_loader = torch.utils.data.DataLoader(mnist_train, batch_size=100, shuffle = True)\n",
    "test_loader = torch.utils.data.DataLoader(mnist_test, batch_size=100, shuffle = False)"
   ]
  },
  {
   "cell_type": "code",
   "execution_count": 6,
   "metadata": {},
   "outputs": [
    {
     "name": "stdout",
     "output_type": "stream",
     "text": [
      "Shape of the minibatch of images: torch.Size([100, 1, 28, 28])\n",
      "Shape of the minibatch of labels: torch.Size([100])\n"
     ]
    }
   ],
   "source": [
    "#Ejemplo de un minibatch hecho por DataLoader\n",
    "\n",
    "data_train_iter = iter(train_loader)\n",
    "images, labels = data_train_iter.next()\n",
    "\n",
    "print(\"Shape of the minibatch of images: {}\".format(images.shape))\n",
    "print(\"Shape of the minibatch of labels: {}\".format(labels.shape))"
   ]
  },
  {
   "cell_type": "code",
   "execution_count": 7,
   "metadata": {},
   "outputs": [],
   "source": [
    "#MODELO DE REGRESION LOGÍSTICA"
   ]
  },
  {
   "cell_type": "code",
   "execution_count": 8,
   "metadata": {},
   "outputs": [],
   "source": [
    "#FUNCION: Y = XW + b\n",
    "#Y: Vector de probabilidades predecidas para todas las clases\n",
    "#X: Vector de datos de todas las clases\n",
    "#W: Vector de Pesos de todos los pixeles de todas las clases\n",
    "#b: Vector de b (sesgos) de todas las clases\n",
    "#Numero de clases: 10 (de 0 a 9)"
   ]
  },
  {
   "cell_type": "code",
   "execution_count": 9,
   "metadata": {},
   "outputs": [],
   "source": [
    "#1.1 El pase adelantado (forward pass)"
   ]
  },
  {
   "cell_type": "code",
   "execution_count": 10,
   "metadata": {
    "scrolled": true
   },
   "outputs": [
    {
     "name": "stdout",
     "output_type": "stream",
     "text": [
      "The shape of the input x: torch.Size([100, 784])\n"
     ]
    }
   ],
   "source": [
    "#Primero, se transforma la entrada de datos(x): de vertor plano (x,y) a vector fila\n",
    "#Mediante la función view(), equivalente a reshape() en numpy\n",
    "#Se reemplaza una de las dimensiones con un \"-1\", que hace a Pytorch inferir la dimensión, basado en las\n",
    "#dimensiones originales y las otras dimensiones especificadas.\n",
    "x = images.view(-1,28*28)\n",
    "print(\"The shape of the input x: {}\".format(x.shape))"
   ]
  },
  {
   "cell_type": "code",
   "execution_count": 11,
   "metadata": {},
   "outputs": [],
   "source": [
    "#Inicializacion al azar de los pesos W (llamada inicializacion de Xavier: datos distribuidos uniforme dividido en\n",
    "#raiz cuadrada de la varianza)\n",
    "W = torch.randn(784, 10)/np.sqrt(784)\n",
    "W.requires_grad_()\n",
    "\n",
    "#Inicialización del sesgo b como vector de 0\n",
    "b = torch.zeros(10, requires_grad = True)\n",
    "\n",
    "#Como son parametros que deseamos aprender, ambos deben ir con requires_grad, lo cual le dice a pytorch que haga\n",
    "#autograd para rastrear los gradientes para estas variables, y todas las variables que dependen de W y b "
   ]
  },
  {
   "cell_type": "code",
   "execution_count": 40,
   "metadata": {},
   "outputs": [
    {
     "data": {
      "text/plain": [
       "torch.Size([100, 10])"
      ]
     },
     "execution_count": 40,
     "metadata": {},
     "output_type": "execute_result"
    }
   ],
   "source": [
    "#Transformacion lineal con W y b\n",
    "y = torch.matmul(x, W) + b\n",
    "y.shape"
   ]
  },
  {
   "cell_type": "code",
   "execution_count": 13,
   "metadata": {},
   "outputs": [
    {
     "name": "stdout",
     "output_type": "stream",
     "text": [
      "tensor([ 0.4128, -0.3526, -0.2701,  0.5532,  0.0151, -0.1007, -0.4344, -0.1734,\n",
      "         0.2399,  0.4429], grad_fn=<SliceBackward>)\n"
     ]
    }
   ],
   "source": [
    "#Tomamos como ejemplo las predicciones del primer minibatch\n",
    "print(y[0,:])"
   ]
  },
  {
   "cell_type": "code",
   "execution_count": 14,
   "metadata": {},
   "outputs": [],
   "source": [
    "#Tomamos estos numeros (llamados logit) \"y\" como probabilidades si los normalizamos para ser positivos y les \n",
    "#sumamos 1. En regresion logistica, hacemos esto con la funcion softmax (o funcion exponencial normalizada)\n",
    "#En el caso binario, la funcion softmax es la extension multiclase de la funcion sigmoide binaria  "
   ]
  },
  {
   "cell_type": "code",
   "execution_count": 15,
   "metadata": {},
   "outputs": [
    {
     "name": "stdout",
     "output_type": "stream",
     "text": [
      "py[0] from equation: tensor([0.1380, 0.0642, 0.0697, 0.1588, 0.0927, 0.0826, 0.0591, 0.0768, 0.1161,\n",
      "        0.1422], grad_fn=<SelectBackward>)\n",
      "py[0] con torch.nn.functional: tensor([0.1380, 0.0642, 0.0697, 0.1588, 0.0927, 0.0826, 0.0591, 0.0768, 0.1161,\n",
      "        0.1422], grad_fn=<SelectBackward>)\n"
     ]
    }
   ],
   "source": [
    "#Opcion 1: Calcular las probabilidades aplicando la formula de la funcion\n",
    "py_eq = torch.exp(y)/torch.sum(torch.exp(y), dim = 1, keepdim = True)\n",
    "print(\"py[0] from equation: {}\".format(py_eq[0]))\n",
    "\n",
    "#Opcion 2: Probabilidades de softmax con torch.nn.functional\n",
    "import torch.nn.functional as F\n",
    "py = F.softmax(y, dim=1)\n",
    "print(\"py[0] con torch.nn.functional: {}\".format(py[0]))"
   ]
  },
  {
   "cell_type": "code",
   "execution_count": 39,
   "metadata": {},
   "outputs": [
    {
     "name": "stdout",
     "output_type": "stream",
     "text": [
      "torch.Size([100])\n"
     ]
    }
   ],
   "source": [
    "#1.2 La pérdida de entropía cruzada\n",
    "#Calcula el desempeño del modelo de predicción vs el modelo objetivo (real)\n",
    "print(labels.shape)"
   ]
  },
  {
   "cell_type": "code",
   "execution_count": 37,
   "metadata": {},
   "outputs": [
    {
     "name": "stdout",
     "output_type": "stream",
     "text": [
      "cross entropy from equation: 2.321925163269043\n",
      "cross entropy with torch.nn.functional.cross_entropy: 0.5423591732978821\n"
     ]
    }
   ],
   "source": [
    "#Opcion 1: Calculo de cross-entropy con la ecuacion\n",
    "cross_entropy_eq = torch.mean(-torch.log(py_eq)[range (labels.shape[0]),labels])\n",
    "print(\"cross entropy from equation: {}\".format(cross_entropy_eq))\n",
    "\n",
    "#Opcion 2: Calculo de cross-entropy con torch.nn.functional\n",
    "cross_entropy = F.cross_entropy(y, labels)\n",
    "print(\"cross entropy with torch.nn.functional.cross_entropy: {}\".format(cross_entropy))"
   ]
  },
  {
   "cell_type": "code",
   "execution_count": 18,
   "metadata": {},
   "outputs": [],
   "source": [
    "#El pase al revés (backwards pass)\n",
    "#Ahora se debe optimizar el modelo, lo cual se realizará con el descenso de gradiente estocástico\n",
    "#Primero, se debe crear el optimizador\n",
    "optimizer = torch.optim.SGD([W,b], lr=0.1)\n",
    "\n",
    "#lr = learning rate"
   ]
  },
  {
   "cell_type": "code",
   "execution_count": 19,
   "metadata": {},
   "outputs": [],
   "source": [
    "#Cuando creamos las variables W y b, indicamos que requerian gradiente, para calcularlos, utilizamos \n",
    "#backward() en la funcion de perdida de entropia cruzada \n",
    "\n",
    "cross_entropy.backward()"
   ]
  },
  {
   "cell_type": "code",
   "execution_count": 20,
   "metadata": {},
   "outputs": [
    {
     "data": {
      "text/plain": [
       "tensor([-0.0181, -0.0850, -0.0198,  0.0388, -0.0257,  0.0539,  0.0267, -0.0071,\n",
       "         0.0256,  0.0105])"
      ]
     },
     "execution_count": 20,
     "metadata": {},
     "output_type": "execute_result"
    }
   ],
   "source": [
    "#Cada una de las variables que requerian gradientes ahora tienen acumulados gradientes. ejemplo b:\n",
    "b.grad"
   ]
  },
  {
   "cell_type": "code",
   "execution_count": 21,
   "metadata": {},
   "outputs": [],
   "source": [
    "#Para aplicar los gradientes y actualizarlo\n",
    "optimizer.step()"
   ]
  },
  {
   "cell_type": "code",
   "execution_count": 22,
   "metadata": {},
   "outputs": [
    {
     "data": {
      "text/plain": [
       "tensor([ 0.0018,  0.0085,  0.0020, -0.0039,  0.0026, -0.0054, -0.0027,  0.0007,\n",
       "        -0.0026, -0.0011], requires_grad=True)"
      ]
     },
     "execution_count": 22,
     "metadata": {},
     "output_type": "execute_result"
    }
   ],
   "source": [
    "b"
   ]
  },
  {
   "cell_type": "code",
   "execution_count": 23,
   "metadata": {},
   "outputs": [
    {
     "name": "stdout",
     "output_type": "stream",
     "text": [
      "b.grad before zero_grad(): tensor([-0.0181, -0.0850, -0.0198,  0.0388, -0.0257,  0.0539,  0.0267, -0.0071,\n",
      "         0.0256,  0.0105])\n",
      "b.grad after zero_grad(): tensor([0., 0., 0., 0., 0., 0., 0., 0., 0., 0.])\n"
     ]
    }
   ],
   "source": [
    "#Ya se ha calculado los gradientes para un minibatch. Para aplicarlos en otro minibatch, se debe primero limpiar\n",
    "#Los gradientes, ya que la funcion backward() no sobreescribe, sino que acumula \n",
    "\n",
    "print(\"b.grad before zero_grad(): {}\".format(b.grad))\n",
    "optimizer.zero_grad()\n",
    "print(\"b.grad after zero_grad(): {}\".format(b.grad))"
   ]
  },
  {
   "cell_type": "code",
   "execution_count": 24,
   "metadata": {},
   "outputs": [],
   "source": [
    "#MODEL TRAINING\n",
    "#Pasar por toda la base de dato se le denomina Epoca. En este caso, se requiere solo una época"
   ]
  },
  {
   "cell_type": "code",
   "execution_count": 25,
   "metadata": {},
   "outputs": [
    {
     "data": {
      "application/vnd.jupyter.widget-view+json": {
       "model_id": "91e4dc7c3a85498fb336eff4d50fbff3",
       "version_major": 2,
       "version_minor": 0
      },
      "text/plain": [
       "HBox(children=(HTML(value=''), FloatProgress(value=0.0, max=600.0), HTML(value='')))"
      ]
     },
     "metadata": {},
     "output_type": "display_data"
    },
    {
     "name": "stdout",
     "output_type": "stream",
     "text": [
      "\n"
     ]
    }
   ],
   "source": [
    "#Iterar a traves de un tren de minibatches\n",
    "#tqdm no es necesario, pero agrega una barra de progreso de los minibatch de train_loader (los datos de entrenamiento)\n",
    "\n",
    "for images, labels in tqdm(train_loader):\n",
    "    #Limpiar gradientes\n",
    "    optimizer.zero_grad()\n",
    "    \n",
    "    #Forward pass\n",
    "    x = images.view(-1, 28*28)\n",
    "    y = torch.matmul(x, W) + b\n",
    "    cross_entropy = F.cross_entropy(y, labels)\n",
    "\n",
    "    #Backward pass\n",
    "    cross_entropy.backward()\n",
    "    optimizer.step()\n",
    "\n",
    "    "
   ]
  },
  {
   "cell_type": "code",
   "execution_count": 26,
   "metadata": {},
   "outputs": [],
   "source": [
    "#Testing\n",
    "#Ahora se utilizan los datos de testeo para evaluar el modelo, con no_grad() indicamos que no estamos interesados\n",
    "#en calcular gradientes."
   ]
  },
  {
   "cell_type": "code",
   "execution_count": 27,
   "metadata": {},
   "outputs": [
    {
     "data": {
      "application/vnd.jupyter.widget-view+json": {
       "model_id": "446a6848364d442ea3fb0825eed40fa7",
       "version_major": 2,
       "version_minor": 0
      },
      "text/plain": [
       "HBox(children=(HTML(value=''), FloatProgress(value=0.0), HTML(value='')))"
      ]
     },
     "metadata": {},
     "output_type": "display_data"
    },
    {
     "name": "stdout",
     "output_type": "stream",
     "text": [
      "\n",
      "Test accuracy: 0.9017000198364258\n"
     ]
    }
   ],
   "source": [
    "correct = 0\n",
    "total = len(mnist_test)\n",
    "\n",
    "with torch.no_grad():\n",
    "    for images, labels in tqdm(test_loader):\n",
    "        \n",
    "        # Forward pass\n",
    "        x = images.view(-1, 28*28)\n",
    "        y = torch.matmul(x, W) + b\n",
    "        \n",
    "        predictions = torch.argmax(y, dim=1)\n",
    "        correct += torch.sum((predictions == labels).float())\n",
    "    \n",
    "print('Test accuracy: {}'.format(correct/total))"
   ]
  },
  {
   "cell_type": "code",
   "execution_count": 28,
   "metadata": {},
   "outputs": [
    {
     "data": {
      "image/png": "[encoded data removed]",
      "text/plain": [
       "<Figure size 1440x144 with 10 Axes>"
      ]
     },
     "metadata": {
      "needs_background": "light"
     },
     "output_type": "display_data"
    }
   ],
   "source": [
    "#Obtener pesos\n",
    "fig, ax = plt.subplots(1, 5, figsize = (20,2))\n",
    "\n",
    "for digit in range(10):\n",
    "    ax[digit].imshow(W[:,digit].detach().view(28,28), cmap ='gray')\n",
    "\n"
   ]
  },
  {
   "cell_type": "code",
   "execution_count": 29,
   "metadata": {},
   "outputs": [],
   "source": [
    "#Todo lo anterior se puede programar con Programacion enfocada al objeto"
   ]
  },
  {
   "cell_type": "code",
   "execution_count": 30,
   "metadata": {},
   "outputs": [
    {
     "name": "stdout",
     "output_type": "stream",
     "text": [
      "W: torch.Size([784, 10])\n",
      "b: torch.Size([10])\n",
      "torch.Size([1, 10])\n"
     ]
    }
   ],
   "source": [
    "#Ejemplo ilustrativo de seteo de parámetros\n",
    "#__init__() es una funcion especial de la clase, ya que inicializa los atributos del objeto creado\n",
    "class xW_plus_b:\n",
    "    def __init__(self, dim_in, dim_out):\n",
    "        self.W = torch.randn(dim_in, dim_out)/np.sqrt(dim_in)\n",
    "        self.W.requires_grad_()\n",
    "        self.b = torch.zeros(dim_out, requires_grad=True)\n",
    "        \n",
    "    def forward(self, x):\n",
    "        return torch.matmul(x, self.W) + self.b\n",
    "\n",
    "#definicion de valores\n",
    "lin_custom = xW_plus_b(784, 10)\n",
    "print(\"W: {}\".format(lin_custom.W.shape))\n",
    "print(\"b: {}\".format(lin_custom.b.shape))\n",
    "\n",
    "#Transformacion lineal, llamando la funcion forward\n",
    "x_rand = torch.randn(1,784)\n",
    "y = lin_custom.forward(x_rand)\n",
    "print(y.shape)"
   ]
  },
  {
   "cell_type": "code",
   "execution_count": 31,
   "metadata": {},
   "outputs": [],
   "source": [
    "#A pesar de que podemos crear nuestras propias clases, que harán las operaciones, no es necesario, ya que ya \n",
    "#existen en la sublibreria torch.nn\n",
    "import torch.nn as nn"
   ]
  },
  {
   "cell_type": "code",
   "execution_count": 32,
   "metadata": {},
   "outputs": [
    {
     "name": "stdout",
     "output_type": "stream",
     "text": [
      "Linear parameters: [torch.Size([10, 784]), torch.Size([10])]\n",
      "torch.Size([100])\n"
     ]
    }
   ],
   "source": [
    "#Para hacer una transformación lineal \n",
    "lin = nn.Linear(784, 10)\n",
    "print(\"Linear parameters: {}\".format([p.shape for p in lin.parameters()]))\n",
    "\n",
    "y = lin(x_rand)\n",
    "print(labels.shape)"
   ]
  },
  {
   "cell_type": "code",
   "execution_count": 33,
   "metadata": {},
   "outputs": [],
   "source": [
    "#Torch.nn.Linear es una subclase de torch.nn.Module, con esta se puede definir todo en un solo lugar \n",
    "class MNIST_Logistic_Regression(nn.Module):\n",
    "    def __init__(self):\n",
    "        super().__init__()\n",
    "        self.lin = nn.Linear(784, 10)\n",
    "\n",
    "    def forward(self, x):\n",
    "        return self.lin(x)"
   ]
  },
  {
   "cell_type": "code",
   "execution_count": 34,
   "metadata": {},
   "outputs": [
    {
     "name": "stdout",
     "output_type": "stream",
     "text": [
      "The model: \n",
      "MNIST_Logistic_Regression(\n",
      "  (lin): Linear(in_features=784, out_features=10, bias=True)\n",
      ")\n",
      "\n",
      "Parameters: \n",
      "[Parameter containing:\n",
      "tensor([[-0.0272,  0.0137, -0.0177,  ..., -0.0151, -0.0034,  0.0333],\n",
      "        [ 0.0129, -0.0321, -0.0097,  ...,  0.0295, -0.0337, -0.0023],\n",
      "        [ 0.0020, -0.0171, -0.0307,  ..., -0.0188,  0.0226, -0.0345],\n",
      "        ...,\n",
      "        [-0.0350, -0.0251, -0.0319,  ...,  0.0161,  0.0214, -0.0243],\n",
      "        [-0.0347, -0.0261,  0.0253,  ...,  0.0243,  0.0175, -0.0268],\n",
      "        [ 0.0347,  0.0037, -0.0032,  ..., -0.0299,  0.0182, -0.0182]],\n",
      "       requires_grad=True), Parameter containing:\n",
      "tensor([ 0.0258, -0.0172, -0.0274, -0.0012, -0.0113, -0.0324, -0.0286, -0.0179,\n",
      "         0.0192,  0.0073], requires_grad=True)]\n",
      "\n",
      "Output shape: \n",
      "torch.Size([1, 10])\n"
     ]
    }
   ],
   "source": [
    "model = MNIST_Logistic_Regression()\n",
    "y = model(x_rand)\n",
    "print(\"The model: \\n{}\".format(model))\n",
    "print(\"\\nParameters: \\n{}\".format(list(model.parameters())))\n",
    "print(\"\\nOutput shape: \\n{}\".format(y.shape))"
   ]
  },
  {
   "cell_type": "code",
   "execution_count": 35,
   "metadata": {},
   "outputs": [
    {
     "data": {
      "application/vnd.jupyter.widget-view+json": {
       "model_id": "9a55e4942d5a4206a0a1fcf5c03dcfd7",
       "version_major": 2,
       "version_minor": 0
      },
      "text/plain": [
       "HBox(children=(HTML(value=''), FloatProgress(value=0.0, max=600.0), HTML(value='')))"
      ]
     },
     "metadata": {},
     "output_type": "display_data"
    },
    {
     "name": "stdout",
     "output_type": "stream",
     "text": [
      "\n"
     ]
    },
    {
     "data": {
      "application/vnd.jupyter.widget-view+json": {
       "model_id": "469caee7238f45d1a6460b39d091099b",
       "version_major": 2,
       "version_minor": 0
      },
      "text/plain": [
       "HBox(children=(HTML(value=''), FloatProgress(value=0.0), HTML(value='')))"
      ]
     },
     "metadata": {},
     "output_type": "display_data"
    },
    {
     "name": "stdout",
     "output_type": "stream",
     "text": [
      "\n",
      "Test accuracy: 0.9028000235557556\n"
     ]
    }
   ],
   "source": [
    "#Codigo 2 completo\n",
    "import numpy as np\n",
    "import torch\n",
    "import torch.nn as nn\n",
    "import torch.nn.functional as F\n",
    "from torchvision import datasets, transforms\n",
    "from tqdm.notebook import tqdm\n",
    "\n",
    "class MNIST_Logistic_Regression(nn.Module):\n",
    "    def __init__(self):\n",
    "        super().__init__()\n",
    "        self.lin = nn.Linear(784, 10)\n",
    "\n",
    "    def forward(self, x):\n",
    "        return self.lin(x)\n",
    "\n",
    "# Load the data\n",
    "mnist_train = datasets.MNIST(root=\"./datasets\", train=True, transform=transforms.ToTensor(), download=True)\n",
    "mnist_test = datasets.MNIST(root=\"./datasets\", train=False, transform=transforms.ToTensor(), download=True)\n",
    "train_loader = torch.utils.data.DataLoader(mnist_train, batch_size=100, shuffle=True)\n",
    "test_loader = torch.utils.data.DataLoader(mnist_test, batch_size=100, shuffle=False)\n",
    "\n",
    "## Training\n",
    "# Instantiate model\n",
    "model = MNIST_Logistic_Regression()\n",
    "\n",
    "# Loss and Optimizer\n",
    "criterion = nn.CrossEntropyLoss()\n",
    "optimizer = torch.optim.SGD(model.parameters(), lr=0.1)\n",
    "\n",
    "# Iterate through train set minibatchs \n",
    "for images, labels in tqdm(train_loader):\n",
    "    # Zero out the gradients\n",
    "    optimizer.zero_grad()\n",
    "    \n",
    "    # Forward pass\n",
    "    x = images.view(-1, 28*28)\n",
    "    y = model(x)\n",
    "    loss = criterion(y, labels)\n",
    "    # Backward pass\n",
    "    loss.backward()\n",
    "    optimizer.step()\n",
    "\n",
    "## Testing\n",
    "correct = 0\n",
    "total = len(mnist_test)\n",
    "\n",
    "with torch.no_grad():\n",
    "    # Iterate through test set minibatchs \n",
    "    for images, labels in tqdm(test_loader):\n",
    "        # Forward pass\n",
    "        x = images.view(-1, 28*28)\n",
    "        y = model(x)\n",
    "        \n",
    "        predictions = torch.argmax(y, dim=1)\n",
    "        correct += torch.sum((predictions == labels).float())\n",
    "    \n",
    "print('Test accuracy: {}'.format(correct/total))"
   ]
  },
  {
   "cell_type": "code",
   "execution_count": null,
   "metadata": {},
   "outputs": [],
   "source": []
  }
 ],
 "metadata": {
  "kernelspec": {
   "display_name": "Python 3",
   "language": "python",
   "name": "python3"
  },
  "language_info": {
   "codemirror_mode": {
    "name": "ipython",
    "version": 3
   },
   "file_extension": ".py",
   "mimetype": "text/x-python",
   "name": "python",
   "nbconvert_exporter": "python",
   "pygments_lexer": "ipython3",
   "version": "3.8.5"
  }
 },
 "nbformat": 4,
 "nbformat_minor": 4
}
